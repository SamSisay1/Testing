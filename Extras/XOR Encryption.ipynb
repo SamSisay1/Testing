{
 "cells": [
  {
   "cell_type": "markdown",
   "id": "443a1a1c-36de-4b2c-8e17-0a7082340500",
   "metadata": {},
   "source": [
    "# XOR Cipher\n",
    "\n",
    "This notebook is a simple example demonstrating how a neural network can be used to solve/break encryption systems that are equivalent to simple transformations."
   ]
  },
  {
   "cell_type": "code",
   "execution_count": 1,
   "id": "5044ab13-f82f-44d2-acb0-fb62c9765e21",
   "metadata": {},
   "outputs": [],
   "source": [
    "import numpy as np\n",
    "from hashlib import sha1\n",
    "import tensorflow as tf\n",
    "from tensorflow.keras.layers import Dense, Dropout, Input\n",
    "from tensorflow.keras import Model\n",
    "import random\n",
    "\n",
    "#os.environ['TF_XLA_FLAGS'] = '--tf_xla_enable_xla_devices'"
   ]
  },
  {
   "cell_type": "code",
   "execution_count": 2,
   "id": "52cb55cd",
   "metadata": {},
   "outputs": [],
   "source": [
    "def xor_encrypt(k, p):\n",
    "    cipher = []\n",
    "    for i,c in enumerate(p):\n",
    "        cipher.append(c ^ ord(k[i%len(k)]))\n",
    "    return cipher\n",
    "\n",
    "def data_generator():\n",
    "    charset = 'abcdefghijklmnopqrstuvwxyz ABCDEFGHIJKLMNOPQRSTUVWXYZ0123456789.,!?'\n",
    "    key = \"This is the key\"\n",
    "    while True:\n",
    "        string = \"\".join([c for i in range(0,16) for c in charset[random.randrange(len(charset))]]).encode('ascii')\n",
    "        string_bytes = np.array(bytearray(string)).astype(np.int32)\n",
    "        cipher_bytes = np.array(xor_encrypt(key, string)).astype(np.int32)\n",
    "        x = cipher_bytes\n",
    "        y = string_bytes\n",
    "        yield x, y\n",
    "\n",
    "generator = data_generator()\n",
    "dataset = tf.data.Dataset.from_generator(data_generator, \n",
    "                output_signature=(\n",
    "                    tf.TensorSpec(shape=(16,), dtype=tf.int32),\n",
    "                    tf.TensorSpec(shape=(16,), dtype=tf.int32)\n",
    "                ))\n",
    "\n",
    "#dataset.batch(32)\n",
    "training_history = []"
   ]
  },
  {
   "cell_type": "code",
   "execution_count": 3,
   "id": "02470d5f",
   "metadata": {},
   "outputs": [
    {
     "name": "stdout",
     "output_type": "stream",
     "text": [
      "Model: \"xor\"\n",
      "_________________________________________________________________\n",
      "Layer (type)                 Output Shape              Param #   \n",
      "=================================================================\n",
      "input_1 (InputLayer)         [(None, 16)]              0         \n",
      "_________________________________________________________________\n",
      "dense (Dense)                (None, 256)               4352      \n",
      "_________________________________________________________________\n",
      "dense_1 (Dense)              (None, 256)               65792     \n",
      "_________________________________________________________________\n",
      "dense_2 (Dense)              (None, 256)               65792     \n",
      "_________________________________________________________________\n",
      "dense_3 (Dense)              (None, 256)               65792     \n",
      "_________________________________________________________________\n",
      "dense_4 (Dense)              (None, 256)               65792     \n",
      "_________________________________________________________________\n",
      "dense_5 (Dense)              (None, 16)                4112      \n",
      "=================================================================\n",
      "Total params: 271,632\n",
      "Trainable params: 271,632\n",
      "Non-trainable params: 0\n",
      "_________________________________________________________________\n"
     ]
    }
   ],
   "source": [
    "inputs = Input(shape=(16,))\n",
    "dense = Dense(256, activation='relu')(inputs)\n",
    "dense = Dense(256, activation='relu')(dense)\n",
    "dense = Dense(256, activation='relu')(dense)\n",
    "dense = Dense(256, activation='relu')(dense)\n",
    "dense = Dense(256, activation='relu')(dense)\n",
    "outputs = Dense(16)(dense)\n",
    "\n",
    "model = Model(inputs=inputs, outputs=outputs, name='xor')\n",
    "model.compile(optimizer='adam', loss='mse', metrics=['accuracy'])\n",
    "model.summary()"
   ]
  },
  {
   "cell_type": "code",
   "execution_count": 4,
   "id": "1d406b61",
   "metadata": {},
   "outputs": [
    {
     "name": "stdout",
     "output_type": "stream",
     "text": [
      "\t[Step: 10000 Accuracy: 0.2277796875 Loss: 194.66472096252443 ]\n",
      "\t[Step: 20000 Accuracy: 0.2830875 Loss: 139.94420139694213 ]\n",
      "\t[Step: 30000 Accuracy: 0.3190203125 Loss: 111.96143207931519 ]\n",
      "\t[Step: 40000 Accuracy: 0.341781640625 Loss: 96.38515496683121 ]\n",
      "\t[Step: 50000 Accuracy: 0.359351875 Loss: 86.36538277431488 ]\n",
      "[Epoch: 0 Accuracy: 0.359351875 Loss: 86.36538277431488]\n",
      "\t[Step: 10000 Accuracy: 0.4678671875 Loss: 42.50314998245239 ]\n",
      "\t[Step: 20000 Accuracy: 0.4822078125 Loss: 41.22220460090637 ]\n",
      "\t[Step: 30000 Accuracy: 0.48955885416666667 Loss: 40.48513981730143 ]\n",
      "\t[Step: 40000 Accuracy: 0.495740625 Loss: 39.85868877191544 ]\n",
      "\t[Step: 50000 Accuracy: 0.5008734375 Loss: 39.332135359420775 ]\n",
      "[Epoch: 1 Accuracy: 0.5008734375 Loss: 39.332135359420775]\n",
      "\t[Step: 10000 Accuracy: 0.5259 Loss: 36.91999279212952 ]\n",
      "\t[Step: 20000 Accuracy: 0.52836875 Loss: 36.47172399778366 ]\n",
      "\t[Step: 30000 Accuracy: 0.5309708333333333 Loss: 35.898949350802106 ]\n",
      "\t[Step: 40000 Accuracy: 0.533944140625 Loss: 35.315246119260784 ]\n",
      "\t[Step: 50000 Accuracy: 0.536676875 Loss: 34.82004005134583 ]\n",
      "[Epoch: 2 Accuracy: 0.536676875 Loss: 34.82004005134583]\n",
      "\t[Step: 10000 Accuracy: 0.5526171875 Loss: 31.82208818473816 ]\n",
      "\t[Step: 20000 Accuracy: 0.5561140625 Loss: 31.532615611839294 ]\n",
      "\t[Step: 30000 Accuracy: 0.5588067708333333 Loss: 31.261595785649618 ]\n",
      "\t[Step: 40000 Accuracy: 0.56173046875 Loss: 30.930173952722548 ]\n",
      "\t[Step: 50000 Accuracy: 0.5639221875 Loss: 30.691601910858154 ]\n",
      "[Epoch: 3 Accuracy: 0.5639221875 Loss: 30.691601910858154]\n",
      "\t[Step: 10000 Accuracy: 0.577759375 Loss: 28.904099179649354 ]\n",
      "\t[Step: 20000 Accuracy: 0.5812765625 Loss: 28.78379955224991 ]\n",
      "\t[Step: 30000 Accuracy: 0.5838421875 Loss: 28.68167233206431 ]\n",
      "\t[Step: 40000 Accuracy: 0.585402734375 Loss: 28.63037841472626 ]\n",
      "\t[Step: 50000 Accuracy: 0.586965625 Loss: 28.53392493675232 ]\n",
      "[Epoch: 4 Accuracy: 0.586965625 Loss: 28.53392493675232]\n",
      "\t[Step: 10000 Accuracy: 0.5986390625 Loss: 27.634148377037047 ]\n",
      "\t[Step: 20000 Accuracy: 0.59935625 Loss: 27.527472642803193 ]\n",
      "\t[Step: 30000 Accuracy: 0.599921875 Loss: 27.469235158729553 ]\n",
      "\t[Step: 40000 Accuracy: 0.600387890625 Loss: 27.34701291937828 ]\n",
      "\t[Step: 50000 Accuracy: 0.6014840625 Loss: 27.208337837791444 ]\n",
      "[Epoch: 5 Accuracy: 0.6014840625 Loss: 27.208337837791444]\n",
      "\t[Step: 10000 Accuracy: 0.607321875 Loss: 26.45423267803192 ]\n",
      "\t[Step: 20000 Accuracy: 0.6076671875 Loss: 26.30284267864227 ]\n",
      "\t[Step: 30000 Accuracy: 0.6084088541666667 Loss: 26.203747883605956 ]\n",
      "\t[Step: 40000 Accuracy: 0.60895078125 Loss: 26.066176557183265 ]\n",
      "\t[Step: 50000 Accuracy: 0.6095803125 Loss: 25.955583456783295 ]\n",
      "[Epoch: 6 Accuracy: 0.6095803125 Loss: 25.955583456783295]\n",
      "\t[Step: 10000 Accuracy: 0.609759375 Loss: 25.672875298786163 ]\n",
      "\t[Step: 20000 Accuracy: 0.61101484375 Loss: 25.38445991230011 ]\n",
      "\t[Step: 30000 Accuracy: 0.61193125 Loss: 25.06817045482 ]\n",
      "\t[Step: 40000 Accuracy: 0.61255390625 Loss: 24.955556694197654 ]\n",
      "\t[Step: 50000 Accuracy: 0.6128059375 Loss: 24.85017972913742 ]\n",
      "[Epoch: 7 Accuracy: 0.6128059375 Loss: 24.85017972913742]\n",
      "\t[Step: 10000 Accuracy: 0.6150359375 Loss: 24.23980439863205 ]\n",
      "\t[Step: 20000 Accuracy: 0.61551328125 Loss: 24.245039165639877 ]\n",
      "\t[Step: 30000 Accuracy: 0.61466875 Loss: 24.33804798075358 ]\n",
      "\t[Step: 40000 Accuracy: 0.615303515625 Loss: 24.18745441172123 ]\n",
      "\t[Step: 50000 Accuracy: 0.61569125 Loss: 24.12160147310257 ]\n",
      "[Epoch: 8 Accuracy: 0.61569125 Loss: 24.12160147310257]\n",
      "\t[Step: 10000 Accuracy: 0.6168046875 Loss: 24.013447469043733 ]\n",
      "\t[Step: 20000 Accuracy: 0.6175671875 Loss: 23.79334539670944 ]\n",
      "\t[Step: 30000 Accuracy: 0.6186270833333334 Loss: 23.55788964770635 ]\n",
      "\t[Step: 40000 Accuracy: 0.6191734375 Loss: 23.357559011125563 ]\n",
      "\t[Step: 50000 Accuracy: 0.6197359375 Loss: 23.32007838054657 ]\n",
      "[Epoch: 9 Accuracy: 0.6197359375 Loss: 23.32007838054657]\n",
      "\t[Step: 10000 Accuracy: 0.622784375 Loss: 22.438693627738953 ]\n",
      "\t[Step: 20000 Accuracy: 0.623153125 Loss: 22.443379183626174 ]\n",
      "\t[Step: 30000 Accuracy: 0.6243067708333333 Loss: 22.13791764535904 ]\n",
      "\t[Step: 40000 Accuracy: 0.62378828125 Loss: 22.211661593031884 ]\n",
      "\t[Step: 50000 Accuracy: 0.62437875 Loss: 22.119713765945434 ]\n",
      "[Epoch: 10 Accuracy: 0.62437875 Loss: 22.119713765945434]\n",
      "\t[Step: 10000 Accuracy: 0.6293140625 Loss: 21.475764799690246 ]\n",
      "\t[Step: 20000 Accuracy: 0.630178125 Loss: 21.4099331802845 ]\n",
      "\t[Step: 30000 Accuracy: 0.6311817708333334 Loss: 21.354235306421916 ]\n",
      "\t[Step: 40000 Accuracy: 0.631379296875 Loss: 21.363066426706315 ]\n",
      "\t[Step: 50000 Accuracy: 0.6320821875 Loss: 21.329149109783174 ]\n",
      "[Epoch: 11 Accuracy: 0.6320821875 Loss: 21.329149109783174]\n",
      "\t[Step: 10000 Accuracy: 0.6374484375 Loss: 20.754459552955627 ]\n",
      "\t[Step: 20000 Accuracy: 0.63619765625 Loss: 21.153859961223603 ]\n",
      "\t[Step: 30000 Accuracy: 0.6368791666666667 Loss: 21.087701397387185 ]\n",
      "\t[Step: 40000 Accuracy: 0.63760234375 Loss: 21.03122650976181 ]\n",
      "\t[Step: 50000 Accuracy: 0.637778125 Loss: 20.98035389087677 ]\n",
      "[Epoch: 12 Accuracy: 0.637778125 Loss: 20.98035389087677]\n",
      "\t[Step: 10000 Accuracy: 0.6423796875 Loss: 20.341866460323335 ]\n",
      "\t[Step: 20000 Accuracy: 0.64170390625 Loss: 20.661372550153732 ]\n",
      "\t[Step: 30000 Accuracy: 0.6419338541666667 Loss: 20.666502326774598 ]\n",
      "\t[Step: 40000 Accuracy: 0.642546875 Loss: 20.595963224720954 ]\n",
      "\t[Step: 50000 Accuracy: 0.6428709375 Loss: 20.53832119161606 ]\n",
      "[Epoch: 13 Accuracy: 0.6428709375 Loss: 20.53832119161606]\n",
      "\t[Step: 10000 Accuracy: 0.64460625 Loss: 20.37195936498642 ]\n",
      "\t[Step: 20000 Accuracy: 0.6442703125 Loss: 20.442065390014648 ]\n",
      "\t[Step: 30000 Accuracy: 0.6441963541666667 Loss: 20.47135267051061 ]\n",
      "\t[Step: 40000 Accuracy: 0.64423828125 Loss: 20.508289947867393 ]\n",
      "\t[Step: 50000 Accuracy: 0.6441025 Loss: 20.519928483753205 ]\n",
      "[Epoch: 14 Accuracy: 0.6441025 Loss: 20.519928483753205]\n",
      "\t[Step: 10000 Accuracy: 0.6442703125 Loss: 20.207278682518005 ]\n",
      "\t[Step: 20000 Accuracy: 0.64526640625 Loss: 20.211112633943557 ]\n",
      "\t[Step: 30000 Accuracy: 0.6451890625 Loss: 20.33035896177292 ]\n",
      "\t[Step: 40000 Accuracy: 0.639596875 Loss: 20.97439890472889 ]\n",
      "\t[Step: 50000 Accuracy: 0.6355346875 Loss: 21.249071583576203 ]\n",
      "[Epoch: 15 Accuracy: 0.6355346875 Loss: 21.249071583576203]\n",
      "\t[Step: 10000 Accuracy: 0.6216875 Loss: 22.607020392513274 ]\n",
      "\t[Step: 20000 Accuracy: 0.62096953125 Loss: 22.828771060466767 ]\n",
      "\t[Step: 30000 Accuracy: 0.6178734375 Loss: 23.401511412715912 ]\n",
      "\t[Step: 40000 Accuracy: 0.617023828125 Loss: 23.640421865820883 ]\n",
      "\t[Step: 50000 Accuracy: 0.6168709375 Loss: 23.575036967697145 ]\n",
      "[Epoch: 16 Accuracy: 0.6168709375 Loss: 23.575036967697145]\n",
      "\t[Step: 10000 Accuracy: 0.6206359375 Loss: 22.280633040905 ]\n",
      "\t[Step: 20000 Accuracy: 0.622075 Loss: 21.94469471306801 ]\n",
      "\t[Step: 30000 Accuracy: 0.6230432291666667 Loss: 21.64433639240265 ]\n",
      "\t[Step: 40000 Accuracy: 0.6218 Loss: 21.700477372336387 ]\n",
      "\t[Step: 50000 Accuracy: 0.622615625 Loss: 21.583646661872862 ]\n",
      "[Epoch: 17 Accuracy: 0.622615625 Loss: 21.583646661872862]\n",
      "\t[Step: 10000 Accuracy: 0.62875 Loss: 20.852235475158693 ]\n",
      "\t[Step: 20000 Accuracy: 0.62872578125 Loss: 20.785275878047944 ]\n",
      "\t[Step: 30000 Accuracy: 0.6275567708333334 Loss: 20.793973562717436 ]\n",
      "\t[Step: 40000 Accuracy: 0.626377734375 Loss: 20.80121657590866 ]\n",
      "\t[Step: 50000 Accuracy: 0.62471875 Loss: 20.924306186180115 ]\n",
      "[Epoch: 18 Accuracy: 0.62471875 Loss: 20.924306186180115]\n",
      "\t[Step: 10000 Accuracy: 0.6215578125 Loss: 20.92953840332031 ]\n",
      "\t[Step: 20000 Accuracy: 0.62296640625 Loss: 21.379614167690278 ]\n",
      "\t[Step: 30000 Accuracy: 0.6262260416666666 Loss: 21.55086821524302 ]\n",
      "\t[Step: 40000 Accuracy: 0.627951171875 Loss: 21.344101859259606 ]\n",
      "\t[Step: 50000 Accuracy: 0.6292121875 Loss: 21.104672455997466 ]\n",
      "[Epoch: 19 Accuracy: 0.6292121875 Loss: 21.104672455997466]\n",
      "\t[Step: 10000 Accuracy: 0.634959375 Loss: 20.02750342102051 ]\n",
      "\t[Step: 20000 Accuracy: 0.63749453125 Loss: 19.537015579605104 ]\n",
      "\t[Step: 30000 Accuracy: 0.6384104166666666 Loss: 19.432303007475536 ]\n",
      "\t[Step: 40000 Accuracy: 0.63911171875 Loss: 19.303565158843995 ]\n",
      "\t[Step: 50000 Accuracy: 0.6406178125 Loss: 19.12363360528946 ]\n",
      "[Epoch: 20 Accuracy: 0.6406178125 Loss: 19.12363360528946]\n",
      "\t[Step: 10000 Accuracy: 0.6511265625 Loss: 18.78618233575821 ]\n",
      "\t[Step: 20000 Accuracy: 0.650734375 Loss: 18.91320131020546 ]\n",
      "\t[Step: 30000 Accuracy: 0.6506880208333333 Loss: 18.849210803540547 ]\n",
      "\t[Step: 40000 Accuracy: 0.650749609375 Loss: 18.82061196079254 ]\n",
      "\t[Step: 50000 Accuracy: 0.6500853125 Loss: 18.81292372051239 ]\n",
      "[Epoch: 21 Accuracy: 0.6500853125 Loss: 18.81292372051239]\n",
      "\t[Step: 10000 Accuracy: 0.649284375 Loss: 18.866098422336577 ]\n",
      "\t[Step: 20000 Accuracy: 0.65175390625 Loss: 18.48847190041542 ]\n",
      "\t[Step: 30000 Accuracy: 0.6491848958333334 Loss: 18.795462492688497 ]\n",
      "\t[Step: 40000 Accuracy: 0.648532421875 Loss: 18.975441632819177 ]\n",
      "\t[Step: 50000 Accuracy: 0.6478125 Loss: 19.13681848859787 ]\n",
      "[Epoch: 22 Accuracy: 0.6478125 Loss: 19.13681848859787]\n",
      "\t[Step: 10000 Accuracy: 0.647084375 Loss: 19.18806958065033 ]\n",
      "\t[Step: 20000 Accuracy: 0.64638828125 Loss: 19.490686042976378 ]\n",
      "\t[Step: 30000 Accuracy: 0.6471390625 Loss: 19.31000909795761 ]\n",
      "\t[Step: 40000 Accuracy: 0.647830078125 Loss: 19.354794792985917 ]\n",
      "\t[Step: 50000 Accuracy: 0.6425684375 Loss: 20.35725023334503 ]\n",
      "[Epoch: 23 Accuracy: 0.6425684375 Loss: 20.35725023334503]\n",
      "\t[Step: 10000 Accuracy: 0.5836328125 Loss: 27.794959779167176 ]\n",
      "\t[Step: 20000 Accuracy: 0.58578203125 Loss: 27.17856150045395 ]\n",
      "\t[Step: 30000 Accuracy: 0.5873526041666667 Loss: 26.85677597103119 ]\n",
      "\t[Step: 40000 Accuracy: 0.588426953125 Loss: 26.54801882071495 ]\n",
      "\t[Step: 50000 Accuracy: 0.587895 Loss: 26.41126429386139 ]\n",
      "[Epoch: 24 Accuracy: 0.587895 Loss: 26.41126429386139]\n"
     ]
    }
   ],
   "source": [
    "history = []\n",
    "for i in range(25):\n",
    "    epoch_count = 0\n",
    "    epoch_accuracy = 0.0\n",
    "    epoch_loss = 0.0\n",
    "    for X,y in dataset.batch(64).take(50000):\n",
    "        X = np.array(X).reshape(-1,16)\n",
    "        y = np.array(y).reshape(-1,16)\n",
    "        hist = model.train_on_batch(X, y=y)\n",
    "        epoch_count = epoch_count + 1\n",
    "        epoch_accuracy += hist[1]\n",
    "        epoch_loss += hist[0]\n",
    "        if(epoch_count % 10000 == 0):\n",
    "            print(f\"\\t[Step: {epoch_count} Accuracy: {epoch_accuracy / epoch_count} Loss: {epoch_loss / epoch_count} ]\")\n",
    "    print(f\"[Epoch: {i} Accuracy: {epoch_accuracy / epoch_count} Loss: {epoch_loss / epoch_count}]\")\n",
    "    history.append((epoch_loss/epoch_count, epoch_accuracy/epoch_count))"
   ]
  },
  {
   "cell_type": "code",
   "execution_count": 5,
   "id": "5459d932",
   "metadata": {},
   "outputs": [
    {
     "data": {
      "image/png": "[encoded data removed]",
      "text/plain": [
       "<Figure size 432x288 with 1 Axes>"
      ]
     },
     "metadata": {
      "needs_background": "light"
     },
     "output_type": "display_data"
    },
    {
     "data": {
      "image/png": "[encoded data removed]",
      "text/plain": [
       "<Figure size 432x288 with 1 Axes>"
      ]
     },
     "metadata": {
      "needs_background": "light"
     },
     "output_type": "display_data"
    }
   ],
   "source": [
    "import matplotlib.pyplot as plt\n",
    "\n",
    "hist = np.array(history)\n",
    "plt.title(\"Loss\")\n",
    "plt.plot(hist[:,0])\n",
    "plt.yscale('log')\n",
    "plt.show()\n",
    "plt.title(\"Accuracy\")\n",
    "plt.plot(hist[:,1])\n",
    "plt.show()\n"
   ]
  },
  {
   "cell_type": "code",
   "execution_count": 6,
   "id": "b4a82bd7",
   "metadata": {},
   "outputs": [],
   "source": [
    "encrypted_text = xor_encrypt(\"This is the key\", b'This is a test!!')"
   ]
  },
  {
   "cell_type": "code",
   "execution_count": 7,
   "id": "eed321ed",
   "metadata": {},
   "outputs": [
    {
     "name": "stdout",
     "output_type": "stream",
     "text": [
      "Wnpt%ov%n#sevr,(\n"
     ]
    }
   ],
   "source": [
    "pred = model.predict([encrypted_text])\n",
    "guess = \"\".join([chr(i) for i in pred.astype(np.uint16)[0]])\n",
    "print(guess)"
   ]
  },
  {
   "cell_type": "code",
   "execution_count": 8,
   "id": "febfe456",
   "metadata": {},
   "outputs": [
    {
     "name": "stdout",
     "output_type": "stream",
     "text": [
      "84 104 105 115 32 105 115 32 97 32 116 101 115 116 33 33\n",
      "87 110 112 116 37 111 118 37 110 35 115 101 118 114 44 40\n"
     ]
    }
   ],
   "source": []
  },
  {
   "cell_type": "code",
   "execution_count": null,
   "id": "4ac96ec1",
   "metadata": {},
   "outputs": [],
   "source": []
  },
  {
   "cell_type": "code",
   "execution_count": null,
   "id": "6afebdd0",
   "metadata": {},
   "outputs": [],
   "source": [
    "print(\" \".join([str(ord(c)) for c in \"This is a test!!\"]))\n",
    "print(\" \".join([str(ord(c)) for c in guess]))"
   ]
  },
  {
   "cell_type": "code",
   "execution_count": 9,
   "id": "382491ed",
   "metadata": {},
   "outputs": [],
   "source": [
    "#model.save(\"XOR.h5\")"
   ]
  },
  {
   "cell_type": "markdown",
   "id": "9fc0a87d-0ec0-4371-ac5e-d294ab6f44c8",
   "metadata": {},
   "source": [
    "While the decryption is far from perfect, we can see that, again, a simple transformation function is not enough to provide strongly encrypted data"
   ]
  },
  {
   "cell_type": "code",
   "execution_count": null,
   "id": "602c28be-e2fe-4554-83e4-4ec88107e543",
   "metadata": {},
   "outputs": [],
   "source": []
  }
 ],
 "metadata": {
  "kernelspec": {
   "display_name": "Python 3 (ipykernel)",
   "language": "python",
   "name": "python3"
  },
  "language_info": {
   "codemirror_mode": {
    "name": "ipython",
    "version": 3
   },
   "file_extension": ".py",
   "mimetype": "text/x-python",
   "name": "python",
   "nbconvert_exporter": "python",
   "pygments_lexer": "ipython3",
   "version": "3.8.12"
  }
 },
 "nbformat": 4,
 "nbformat_minor": 5
}
